{
 "cells": [
  {
   "cell_type": "code",
   "execution_count": 1,
   "id": "8318c87b-d336-467e-8b8b-f775e12d6638",
   "metadata": {},
   "outputs": [
    {
     "name": "stdout",
     "output_type": "stream",
     "text": [
      "Hello World\n"
     ]
    }
   ],
   "source": [
    "print('Hello World')"
   ]
  },
  {
   "cell_type": "code",
   "execution_count": 4,
   "id": "9cb85a62-9639-4650-b5a4-68c05eff07f8",
   "metadata": {},
   "outputs": [
    {
     "name": "stdout",
     "output_type": "stream",
     "text": [
      "Hello World version 2\n"
     ]
    }
   ],
   "source": [
    "print('Hello World version 2')"
   ]
  },
  {
   "cell_type": "markdown",
   "id": "4285c2f3-cf09-428d-9698-b125acf620ed",
   "metadata": {},
   "source": [
    "# Heading 1\n",
    "\n",
    "## Heading 2\n",
    "\n",
    "<br>\n",
    "\n",
    "**Bold Test**"
   ]
  },
  {
   "cell_type": "markdown",
   "id": "a2bcb503-1cb4-4565-90f7-b8437e8772de",
   "metadata": {},
   "source": [
    "$\\theta = 0.5$"
   ]
  },
  {
   "cell_type": "code",
   "execution_count": null,
   "id": "cd2d4e2d-2ff1-44ab-8bae-4978838b7af2",
   "metadata": {},
   "outputs": [],
   "source": []
  }
 ],
 "metadata": {
  "kernelspec": {
   "display_name": "Python 3 (ipykernel)",
   "language": "python",
   "name": "python3"
  },
  "language_info": {
   "codemirror_mode": {
    "name": "ipython",
    "version": 3
   },
   "file_extension": ".py",
   "mimetype": "text/x-python",
   "name": "python",
   "nbconvert_exporter": "python",
   "pygments_lexer": "ipython3",
   "version": "3.9.12"
  }
 },
 "nbformat": 4,
 "nbformat_minor": 5
}
