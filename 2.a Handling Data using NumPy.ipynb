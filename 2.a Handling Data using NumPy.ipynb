{
 "cells": [
  {
   "cell_type": "markdown",
   "id": "7c444c4e-e277-4424-bd81-6ff8d72a8a90",
   "metadata": {},
   "source": [
    "# NumPy\n",
    "\n",
    "NumPy is a library for the Python programming language used for handling data to:\n",
    "- adding large, multi-dimensional arrays and matrices, \n",
    "- perform a large collection of high-level mathematical functions\n",
    "\n",
    "NumPy documentation can be accessed using [this link](https://numpy.org/doc/stable/)."
   ]
  },
  {
   "cell_type": "code",
   "execution_count": null,
   "id": "8dc8d062-021f-4af5-8a14-ede2de706b73",
   "metadata": {},
   "outputs": [],
   "source": [
    "#Import numpy\n",
    "\n",
    "import numpy as np"
   ]
  },
  {
   "cell_type": "markdown",
   "id": "3799368f-1cbe-4fec-8762-07b7d6f9d201",
   "metadata": {},
   "source": [
    "## Creating Arrays\n",
    "\n",
    "Create a list and convert it to a numpy array"
   ]
  },
  {
   "cell_type": "code",
   "execution_count": null,
   "id": "f3a98576-043a-4392-b281-1f32c51818ae",
   "metadata": {},
   "outputs": [],
   "source": [
    "mylist = [1, 2, 3]\n",
    "x = np.array(mylist)\n",
    "x"
   ]
  },
  {
   "cell_type": "code",
   "execution_count": null,
   "id": "51195414-5999-4e81-a2e9-735cabec8b53",
   "metadata": {},
   "outputs": [],
   "source": [
    "y = np.array([4, 5, 6])\n",
    "y"
   ]
  },
  {
   "cell_type": "markdown",
   "id": "14610364-7dd8-4200-bf6a-5a431e8605cb",
   "metadata": {},
   "source": [
    "Pass in a list of lists to create a multidimensional array."
   ]
  },
  {
   "cell_type": "code",
   "execution_count": null,
   "id": "4118cc00-9197-4266-9576-57a645639d29",
   "metadata": {},
   "outputs": [],
   "source": [
    "m = np.array([[7, 8, 9], [10, 11, 12]])\n",
    "m"
   ]
  },
  {
   "cell_type": "code",
   "execution_count": null,
   "id": "855a6ce5-ae49-41e7-a4b5-511cb37ebefc",
   "metadata": {},
   "outputs": [],
   "source": [
    "m.shape"
   ]
  },
  {
   "cell_type": "code",
   "execution_count": null,
   "id": "7a8c5e94-f2cb-49a8-93f5-b5a1d038bba8",
   "metadata": {},
   "outputs": [],
   "source": [
    "x.shape, y.shape"
   ]
  },
  {
   "cell_type": "markdown",
   "id": "e54d0d13-71f0-477d-ba68-395ed551bfdb",
   "metadata": {},
   "source": [
    "`arange` returns evenly spaced values within a given interval."
   ]
  },
  {
   "cell_type": "code",
   "execution_count": null,
   "id": "6128168e-2642-4bd0-a7ac-a46a5c3154e3",
   "metadata": {},
   "outputs": [],
   "source": [
    "n = np.arange(0, 30, 2) # start at 0 count up by 2, stop before 30\n",
    "n"
   ]
  },
  {
   "cell_type": "markdown",
   "id": "5bce35e6-2c91-47e7-bbbb-3996ef7869de",
   "metadata": {},
   "source": [
    "`reshape` returns an array with the same data with a new shape."
   ]
  },
  {
   "cell_type": "code",
   "execution_count": null,
   "id": "66d2373b-1ced-46da-895e-c25b10d1dc11",
   "metadata": {},
   "outputs": [],
   "source": [
    "n = n.reshape(3, 5) # reshape array to be 3x5\n",
    "n"
   ]
  },
  {
   "cell_type": "markdown",
   "id": "a7c6af54-e0ef-4f0f-a17c-2799ff3384af",
   "metadata": {},
   "source": [
    "`linspace` returns evenly spaced numbers over a specified interval."
   ]
  },
  {
   "cell_type": "code",
   "execution_count": null,
   "id": "7a1ee1b6-6268-4f80-ba96-2dc6871e17d6",
   "metadata": {},
   "outputs": [],
   "source": [
    "o = (np.linspace(0, 100, 9)) # return 9 evenly spaced values from 0 to 4\n",
    "o"
   ]
  },
  {
   "cell_type": "markdown",
   "id": "909c39cb-7a09-48e0-9ea9-31461487395e",
   "metadata": {},
   "source": [
    "`resize` changes the shape and size of array in-place."
   ]
  },
  {
   "cell_type": "code",
   "execution_count": null,
   "id": "660256bb-9edf-418a-9c36-78f151f8def0",
   "metadata": {},
   "outputs": [],
   "source": [
    "o.resize(3, 3)\n",
    "o"
   ]
  },
  {
   "cell_type": "markdown",
   "id": "bd33e3cc-1eef-491b-bc4d-ef5b4d3dcaa6",
   "metadata": {},
   "source": [
    "`ones` and `zeros` returns a new array of given shape and type, filled with ones and zeroes respectively."
   ]
  },
  {
   "cell_type": "code",
   "execution_count": null,
   "id": "4d41c49c-49df-41c7-9c27-33e34b9053d3",
   "metadata": {},
   "outputs": [],
   "source": [
    "np.ones((3, 2))"
   ]
  },
  {
   "cell_type": "code",
   "execution_count": null,
   "id": "ab29a527-434f-4b7b-b645-3488f73b6175",
   "metadata": {},
   "outputs": [],
   "source": [
    "np.zeros((2, 3))"
   ]
  },
  {
   "cell_type": "markdown",
   "id": "86e5594c-9f2d-4930-8127-0d4a223a77e0",
   "metadata": {},
   "source": [
    "`eye` returns a 2-D array with ones on the diagonal and zeros elsewhere.\n",
    "This is akin to identity matrix in math."
   ]
  },
  {
   "cell_type": "code",
   "execution_count": null,
   "id": "673d3cfc-9ac1-43b3-8e8a-cff77c53dce0",
   "metadata": {},
   "outputs": [],
   "source": [
    "np.eye(3)"
   ]
  },
  {
   "cell_type": "markdown",
   "id": "427be7e1-0c11-4c4e-a7fd-dcf49f0e94dc",
   "metadata": {},
   "source": [
    "`diag` extracts a diagonal or constructs a diagonal array."
   ]
  },
  {
   "cell_type": "code",
   "execution_count": null,
   "id": "cba4b3c1-9e4e-4f1a-8c0a-168f89d4e79d",
   "metadata": {},
   "outputs": [],
   "source": [
    "np.diag(y)"
   ]
  },
  {
   "cell_type": "markdown",
   "id": "b9e4c7bb-bb99-4e58-b4b0-79c16258c086",
   "metadata": {},
   "source": [
    "Create an array using repeating list (or see `np.tile`)"
   ]
  },
  {
   "cell_type": "code",
   "execution_count": null,
   "id": "c87e9caa-a2da-4a7d-a82d-bd2c0f9310ee",
   "metadata": {},
   "outputs": [],
   "source": [
    "np.array([1, 2, 3] * 3)"
   ]
  },
  {
   "cell_type": "markdown",
   "id": "220b6310-650d-4bef-8d9a-611b1733e0a2",
   "metadata": {},
   "source": [
    "Repeat elements of an array using `repeat`."
   ]
  },
  {
   "cell_type": "markdown",
   "id": "acecee34-f553-46a1-9688-f4b740a16f7d",
   "metadata": {},
   "source": [
    "## Combining multiple arrays"
   ]
  },
  {
   "cell_type": "code",
   "execution_count": null,
   "id": "f69d9e36-c861-4031-b0cb-478adeb90b66",
   "metadata": {},
   "outputs": [],
   "source": [
    "p = np.ones([2, 3], int)\n",
    "p"
   ]
  },
  {
   "cell_type": "markdown",
   "id": "806b4b1f-0fd9-4351-8693-05b78be8bf34",
   "metadata": {},
   "source": [
    "Use `vstack` to stack arrays in sequence vertically (row wise)."
   ]
  },
  {
   "cell_type": "code",
   "execution_count": null,
   "id": "38752a86-e7b8-4139-aa00-7cbb80de5c05",
   "metadata": {},
   "outputs": [],
   "source": [
    "np.vstack([p, 2*p])"
   ]
  },
  {
   "cell_type": "markdown",
   "id": "5a2ceea2-3556-440d-8814-64aa725b889c",
   "metadata": {},
   "source": [
    "Use `hstack` to stack arrays in sequence horizontally (column wise)."
   ]
  },
  {
   "cell_type": "code",
   "execution_count": null,
   "id": "1772cf9b-ff5e-42cd-92ba-d86fc42c6e32",
   "metadata": {},
   "outputs": [],
   "source": [
    "np.hstack([p, 2*p])"
   ]
  },
  {
   "cell_type": "markdown",
   "id": "f2ca84d2-90f8-483e-bb01-2e167997da50",
   "metadata": {},
   "source": [
    "## Operations on numpy arrays\n",
    "\n",
    "Use element wise operations:\n",
    "- `+` for addition\n",
    "-  `-` for subtraction\n",
    "- `*` for multiplication\n",
    "-  `/` for division\n",
    "- `**` for power"
   ]
  },
  {
   "cell_type": "code",
   "execution_count": null,
   "id": "fd3a1fea-2e98-4b6b-84d4-0e4f5e24066a",
   "metadata": {},
   "outputs": [],
   "source": [
    "print(x + y) # elementwise addition     [1 2 3] + [4 5 6] = [5  7  9]\n",
    "print(x - y) # elementwise subtraction  [1 2 3] - [4 5 6] = [-3 -3 -3]"
   ]
  },
  {
   "cell_type": "code",
   "execution_count": null,
   "id": "85fa9000-d612-4263-9fea-e65404a51455",
   "metadata": {},
   "outputs": [],
   "source": [
    "print(x * y) # elementwise multiplication  [1 2 3] * [4 5 6] = [4  10  18]\n",
    "print(x / y) # elementwise divison         [1 2 3] / [4 5 6] = [0.25  0.4  0.5]"
   ]
  },
  {
   "cell_type": "code",
   "execution_count": null,
   "id": "4147d628-1591-468b-a924-7c14c9428324",
   "metadata": {},
   "outputs": [],
   "source": [
    "print(x**2) # elementwise power  [1 2 3] ^2 =  [1 4 9]"
   ]
  },
  {
   "cell_type": "markdown",
   "id": "68a9aa69-21bf-4235-bd99-1b5b70bb87c0",
   "metadata": {},
   "source": [
    "**Dot Product:**  \n",
    "\n",
    "$ \\begin{bmatrix}x_1 \\ x_2 \\ x_3\\end{bmatrix}\n",
    "\\cdot\n",
    "\\begin{bmatrix}y_1 \\\\ y_2 \\\\ y_3\\end{bmatrix}\n",
    "= x_1 y_1 + x_2 y_2 + x_3 y_3$"
   ]
  },
  {
   "cell_type": "code",
   "execution_count": null,
   "id": "060b65c0-31a4-4302-b9ef-21d86bea4ed1",
   "metadata": {},
   "outputs": [],
   "source": [
    "x.dot(y) # dot product  1*4 + 2*5 + 3*6"
   ]
  },
  {
   "cell_type": "code",
   "execution_count": null,
   "id": "0c0daeab-da05-47d2-956d-835feda41ecc",
   "metadata": {},
   "outputs": [],
   "source": [
    "z = np.array([y, y**2])\n",
    "print(len(z)) # number of rows of array"
   ]
  },
  {
   "cell_type": "code",
   "execution_count": null,
   "id": "0cc49d47-fe38-4500-be2c-dabc85f2f456",
   "metadata": {},
   "outputs": [],
   "source": [
    "zz = np.array([[1, 2, 3, 4, 5, 6]])\n",
    "len(zz)"
   ]
  },
  {
   "cell_type": "markdown",
   "id": "80110e75-c547-4e6e-89f7-3b8a4f49dd6d",
   "metadata": {},
   "source": [
    "Transposing arrays (causing permutes the dimensions of the array)."
   ]
  },
  {
   "cell_type": "code",
   "execution_count": null,
   "id": "14dc5166-0051-4836-aa91-444a3c4c6d9a",
   "metadata": {},
   "outputs": [],
   "source": [
    "z"
   ]
  },
  {
   "cell_type": "code",
   "execution_count": null,
   "id": "97f6d815-5b69-4281-9bed-9194785cd470",
   "metadata": {},
   "outputs": [],
   "source": [
    "z.shape"
   ]
  },
  {
   "cell_type": "markdown",
   "id": "29e1b98e-bcac-4590-b34f-d8fc7cb514b3",
   "metadata": {},
   "source": [
    "Use `.T` to get the transpose."
   ]
  },
  {
   "cell_type": "code",
   "execution_count": null,
   "id": "bcdb6d9f-cbaa-492d-b6d3-468b6a0fcf50",
   "metadata": {},
   "outputs": [],
   "source": [
    "z.T"
   ]
  },
  {
   "cell_type": "code",
   "execution_count": null,
   "id": "02f009db-f7fb-415f-be63-b688bf1daeb7",
   "metadata": {},
   "outputs": [],
   "source": [
    "z.T.shape"
   ]
  },
  {
   "cell_type": "markdown",
   "id": "6dc5ea55-5fc3-4f6d-85b3-7385a11539f2",
   "metadata": {},
   "source": [
    "Use `.dtype` to see the data type of the elements in the array."
   ]
  },
  {
   "cell_type": "code",
   "execution_count": null,
   "id": "d429e8a2-1a62-4007-9915-9202129cf8db",
   "metadata": {},
   "outputs": [],
   "source": [
    "z.dtype"
   ]
  },
  {
   "cell_type": "code",
   "execution_count": null,
   "id": "ed4e57ef-7974-4e60-a75f-19116ca7dd97",
   "metadata": {},
   "outputs": [],
   "source": [
    "abc = np.array([['abc', '1', 3], ['xyz', '2', 33]])\n",
    "abc.T"
   ]
  },
  {
   "cell_type": "markdown",
   "id": "ed8a16bb-832d-4618-b114-2e9fdda10f5b",
   "metadata": {},
   "source": [
    "Use `.astype` to cast to a specific type."
   ]
  },
  {
   "cell_type": "code",
   "execution_count": null,
   "id": "e95ed34f-9706-46e0-8966-561de382590a",
   "metadata": {},
   "outputs": [],
   "source": [
    "z = z.astype('f')\n",
    "z.dtype"
   ]
  },
  {
   "cell_type": "code",
   "execution_count": null,
   "id": "a38d42e4-8308-4d3c-821a-c397c99a85a4",
   "metadata": {},
   "outputs": [],
   "source": [
    "#Builins math functions\n",
    "\n",
    "a = np.array([-4, -2, 1, 3, 5])"
   ]
  },
  {
   "cell_type": "code",
   "execution_count": null,
   "id": "173725d3-bec8-4560-9c1a-96e89aa5764f",
   "metadata": {},
   "outputs": [],
   "source": [
    "a.sum()"
   ]
  },
  {
   "cell_type": "code",
   "execution_count": null,
   "id": "3977f0eb-edb4-45c8-ab16-4bfbba1cfc8f",
   "metadata": {},
   "outputs": [],
   "source": [
    "a.max(), a.min(), a.mean(), a.std()"
   ]
  },
  {
   "cell_type": "markdown",
   "id": "43f8f267-6271-466c-992b-2f22d9e2c0d4",
   "metadata": {},
   "source": [
    "`argmax` and `argmin` return the index of the maximum and minimum values in the array."
   ]
  },
  {
   "cell_type": "code",
   "execution_count": null,
   "id": "322b7bdf-254e-4005-b128-f76fc8884e3d",
   "metadata": {},
   "outputs": [],
   "source": [
    "a.argmax()"
   ]
  },
  {
   "cell_type": "markdown",
   "id": "fb6546cf-68f7-4756-aa51-b431e4c5d35e",
   "metadata": {},
   "source": [
    "## Indexing / Slicing"
   ]
  },
  {
   "cell_type": "code",
   "execution_count": null,
   "id": "9bc01947-7ab0-458d-962d-50470cd5e234",
   "metadata": {},
   "outputs": [],
   "source": [
    "s = np.arange(13)**2\n",
    "s"
   ]
  },
  {
   "cell_type": "markdown",
   "id": "6558996f-afbd-4211-86a9-eb5198c3d96f",
   "metadata": {},
   "source": [
    "Use bracket notation to get the value at a specific index. Remember that indexing starts at 0."
   ]
  },
  {
   "cell_type": "code",
   "execution_count": null,
   "id": "6776d06f-66af-4f53-ae6b-7f5881d43dce",
   "metadata": {},
   "outputs": [],
   "source": [
    "s[0], s[4], s[-1]"
   ]
  },
  {
   "cell_type": "markdown",
   "id": "e8ab179e-bd70-4d6c-a1bb-a3a13d1f989c",
   "metadata": {},
   "source": [
    "Use `:` to indicate a range. `array[start:stop]`\n",
    "\n",
    "\n",
    "Leaving `start` or `stop` empty will default to the beginning/end of the array."
   ]
  },
  {
   "cell_type": "code",
   "execution_count": null,
   "id": "c514493b-01e8-492e-aee3-a151368eeff5",
   "metadata": {},
   "outputs": [],
   "source": [
    "s[1:5]"
   ]
  },
  {
   "cell_type": "code",
   "execution_count": null,
   "id": "d8f49107-2954-4f1c-bdbe-a74360a7963b",
   "metadata": {},
   "outputs": [],
   "source": [
    "s[-4:]"
   ]
  },
  {
   "cell_type": "markdown",
   "id": "976cc6ae-efce-48c0-a037-db8c40a8bb75",
   "metadata": {},
   "source": [
    "A second `:` can be used to indicate step-size. `array[start:stop:stepsize]`\n",
    "\n",
    "Here we are starting 5th element from the end, and counting backwards by 2 until the beginning of the array is reached."
   ]
  },
  {
   "cell_type": "code",
   "execution_count": null,
   "id": "a030aa63-3c26-45e9-af82-5d82fb2e419d",
   "metadata": {},
   "outputs": [],
   "source": [
    "s[-5::-2]"
   ]
  },
  {
   "cell_type": "markdown",
   "id": "7a61500a-42af-481c-8c66-c359c7dfb2f0",
   "metadata": {},
   "source": [
    "Introducing multidimensional array!"
   ]
  },
  {
   "cell_type": "code",
   "execution_count": null,
   "id": "28c2512b-ecad-46a6-b8a8-65020f8fbb0b",
   "metadata": {},
   "outputs": [],
   "source": [
    "r = np.arange(36)\n",
    "r.resize((6, 6))\n",
    "r"
   ]
  },
  {
   "cell_type": "markdown",
   "id": "65d4f4e8-037b-4249-8f57-4cb06fb6e95e",
   "metadata": {},
   "source": [
    "Use bracket notation to slice: `array[row, column]`"
   ]
  },
  {
   "cell_type": "code",
   "execution_count": null,
   "id": "141ebe48-fb4a-4c4a-8c82-53a5cb0ebd8e",
   "metadata": {},
   "outputs": [],
   "source": [
    "r[2, 2]"
   ]
  },
  {
   "cell_type": "markdown",
   "id": "e8d6ba75-a8ab-4d54-a6f6-b624e0684d68",
   "metadata": {},
   "source": [
    "And use `:` to select a range of rows or columns"
   ]
  },
  {
   "cell_type": "code",
   "execution_count": null,
   "id": "24f3804b-ac14-4049-b53a-6b2f2516f08f",
   "metadata": {},
   "outputs": [],
   "source": [
    "r[3, 3:6]"
   ]
  },
  {
   "cell_type": "markdown",
   "id": "423abb7f-6989-4ef1-892f-fbc2613d532b",
   "metadata": {},
   "source": [
    "Here we are selecting all the rows up to (and not including) row 2, and all the columns up to (and not including) the last column."
   ]
  },
  {
   "cell_type": "code",
   "execution_count": null,
   "id": "3db9aa72-ee01-481c-a45e-55b60792afa2",
   "metadata": {},
   "outputs": [],
   "source": [
    "r[:2, :-1]"
   ]
  },
  {
   "cell_type": "code",
   "execution_count": null,
   "id": "4cd8d009-c7f7-435a-ad0e-e96a8415c17a",
   "metadata": {},
   "outputs": [],
   "source": [
    "r[-1, ::2]"
   ]
  },
  {
   "cell_type": "code",
   "execution_count": null,
   "id": "080ddf27-891c-4102-ade2-8dd84da60883",
   "metadata": {},
   "outputs": [],
   "source": [
    "r[r > 30]"
   ]
  },
  {
   "cell_type": "markdown",
   "id": "0c5e39a8-997c-46bc-9198-b218a6b530ae",
   "metadata": {},
   "source": [
    "We can also perform conditional indexing. Here we are selecting values from the array that are greater than 30. (Also see `np.where`)"
   ]
  },
  {
   "cell_type": "code",
   "execution_count": null,
   "id": "9571746a-cce0-4b6b-82e2-71d83dcbbc8a",
   "metadata": {},
   "outputs": [],
   "source": [
    "r[r > 30] = 30\n",
    "r"
   ]
  },
  {
   "cell_type": "markdown",
   "id": "9c83e696-9e91-4a60-a6ae-23b6c46750b0",
   "metadata": {},
   "source": [
    "## Copying Data\n",
    "\n",
    "Be careful with copying and modifying arrays in NumPy!\n",
    "\n",
    "\n",
    "`r2` is a slice of `r`"
   ]
  },
  {
   "cell_type": "code",
   "execution_count": null,
   "id": "08515e62-9622-4ab1-baad-21a6a61a1cc8",
   "metadata": {},
   "outputs": [],
   "source": [
    "r2 = r[:3,:3]\n",
    "r2"
   ]
  },
  {
   "cell_type": "markdown",
   "id": "1b1d756d-12cd-4789-a015-21c1bff7a3c6",
   "metadata": {},
   "source": [
    "Set this slice's values to zero ([:] selects the entire array)"
   ]
  },
  {
   "cell_type": "code",
   "execution_count": null,
   "id": "8b3d72f5-de40-4935-9b71-88a9af320399",
   "metadata": {},
   "outputs": [],
   "source": [
    "r2[:] = 0\n",
    "r2"
   ]
  },
  {
   "cell_type": "markdown",
   "id": "b9d67048-e54a-4e3a-9399-0fec7a57302a",
   "metadata": {},
   "source": [
    "`r` has also been changed!"
   ]
  },
  {
   "cell_type": "markdown",
   "id": "558856ea-94e6-4c86-9c7b-64af89cf282a",
   "metadata": {},
   "source": [
    "To avoid this, use `r.copy` to create a copy that will not affect the original array"
   ]
  },
  {
   "cell_type": "code",
   "execution_count": null,
   "id": "0004c0e8-6f8b-4fe3-a46c-297e538527fe",
   "metadata": {},
   "outputs": [],
   "source": [
    "r_copy = r.copy()\n",
    "r_copy"
   ]
  },
  {
   "cell_type": "markdown",
   "id": "49cbd7df-d58a-4797-b3a2-590ad9ef867e",
   "metadata": {},
   "source": [
    "Now when `r_copy` is modified, `r` will not be changed."
   ]
  },
  {
   "cell_type": "code",
   "execution_count": null,
   "id": "3731b323-9ec0-4a63-b963-c1b9dafe7026",
   "metadata": {},
   "outputs": [],
   "source": [
    "r_copy[:] = 10\n",
    "print(r_copy, '\\n')\n",
    "print(r)"
   ]
  },
  {
   "cell_type": "markdown",
   "id": "5a9424e4-bd67-4341-81d8-d80fbdbecac3",
   "metadata": {},
   "source": [
    "## Iterating Over Arrays\n",
    "\n",
    "Let's create a new 4 by 3 array of random numbers 0-9."
   ]
  },
  {
   "cell_type": "code",
   "execution_count": null,
   "id": "5970ae5f-bd2f-4e96-8bee-75bcb290ba0a",
   "metadata": {},
   "outputs": [],
   "source": [
    "test = np.random.randint(0, 10, (4,3))\n",
    "test"
   ]
  },
  {
   "cell_type": "code",
   "execution_count": null,
   "id": "ae82b008-b230-45bb-ac8c-acde1e8c7d82",
   "metadata": {},
   "outputs": [],
   "source": [
    "#iterate row by row\n",
    "\n",
    "for row in test:\n",
    "    print(row)"
   ]
  },
  {
   "cell_type": "code",
   "execution_count": null,
   "id": "50397ea5-767a-425f-9d61-d1e6d472cbdd",
   "metadata": {},
   "outputs": [],
   "source": [
    "#By index\n",
    "\n",
    "for i in range(len(test)):\n",
    "    print(test[i])"
   ]
  },
  {
   "cell_type": "code",
   "execution_count": null,
   "id": "b1d3cd5d-5f96-481b-b04b-7c61769d7a26",
   "metadata": {},
   "outputs": [],
   "source": [
    "#By row and index:\n",
    "\n",
    "for i, row in enumerate(test):\n",
    "    print('row', i, 'is', row)"
   ]
  },
  {
   "cell_type": "code",
   "execution_count": null,
   "id": "37fef420-34bb-4580-9dff-de6c52cba91b",
   "metadata": {},
   "outputs": [],
   "source": []
  }
 ],
 "metadata": {
  "kernelspec": {
   "display_name": "Python 3 (ipykernel)",
   "language": "python",
   "name": "python3"
  },
  "language_info": {
   "codemirror_mode": {
    "name": "ipython",
    "version": 3
   },
   "file_extension": ".py",
   "mimetype": "text/x-python",
   "name": "python",
   "nbconvert_exporter": "python",
   "pygments_lexer": "ipython3",
   "version": "3.9.12"
  }
 },
 "nbformat": 4,
 "nbformat_minor": 5
}
